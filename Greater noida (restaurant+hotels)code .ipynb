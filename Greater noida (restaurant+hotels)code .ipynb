{
 "cells": [
  {
   "cell_type": "code",
   "execution_count": null,
   "id": "45f0575c",
   "metadata": {},
   "outputs": [],
   "source": [
    "import folium\n",
    "import pandas as pd\n",
    "\n",
    "# Load the data from the first CSV file\n",
    "data_path1 = r'C:\\Users\\DELL\\Downloads\\GNrestaurants_cleaned .csv'\n",
    "df1 = pd.read_csv(data_path1)\n",
    "\n",
    "# Load the data from the second CSV file\n",
    "data_path2 = 'C:\\\\Users\\\\DELL\\\\Downloads\\\\HR botics\\\\imp\\\\New folder\\\\HTML plotting\\\\Hotels_GN.csv'\n",
    "df2 = pd.read_csv(data_path2)\n",
    "\n",
    "# Create a Folium map centered around the average coordinates of the first dataset\n",
    "map_center = [df1['Latitude'].mean(), df1['Longitude'].mean()]\n",
    "map_osm = folium.Map(location=map_center, zoom_start=14, tiles='CartoDB positron')\n",
    "\n",
    "# Add markers for each data point from the first dataset\n",
    "for _, row in df1.iterrows():\n",
    "    rating_with_star = f\"★ {row['Rating']}\"\n",
    "    popup_html = f\"\"\"\n",
    "    <div>\n",
    "        <h4>Name: {row['Name']}</h4>\n",
    "        <p style=\"font-size:16px;\">Rating: {rating_with_star}</p>\n",
    "        <img src=\"{row['attributes']}\" alt=\"Restaurant Image\" style=\"max-width:200px;\">\n",
    "    </div>\n",
    "    \"\"\"\n",
    "    popup = folium.Popup(html=popup_html, max_width=300)\n",
    "    folium.Marker(location=[row['Latitude'], row['Longitude']],\n",
    "                  popup=popup).add_to(map_osm)\n",
    "\n",
    "# Add markers for each location from the second dataset with red marker style\n",
    "for index, row in df2.iterrows():\n",
    "    hotel_name = f\"Hotel Name: <span style='font-size: 14px;'>{row['title']}</span>\"\n",
    "    location = [row['Latitude'], row['Longitude']]\n",
    "    thumbnails_html = ''.join([f'<img src=\"{thumbnail}\" style=\"max-height:100px; max-width:200px; margin-right:5px;\">' for thumbnail in eval(row['thumbnails'])])\n",
    "    popup_text = f\"{hotel_name}<br>Rating: <span style='font-size: 14px; color: yellow;'>&#9733; {row['rating']}</span><br>Reviews: <span style='font-size: 14px;'>{row['reviews']}</span><br>Price: <span style='font-size: 14px;'>{row['Price']}</span><br>{thumbnails_html}\"\n",
    "    marker = folium.Marker(location=location, popup=popup_text, icon=folium.Icon(color='red'), tooltip=f\"Price: {row['Price']}\", parse_html=True)\n",
    "    marker.add_to(map_osm)\n",
    "\n",
    "# Save the map to an HTML file\n",
    "map_osm.save('GN_restandhotels.html')"
   ]
  }
 ],
 "metadata": {
  "kernelspec": {
   "display_name": "Python 3 (ipykernel)",
   "language": "python",
   "name": "python3"
  },
  "language_info": {
   "codemirror_mode": {
    "name": "ipython",
    "version": 3
   },
   "file_extension": ".py",
   "mimetype": "text/x-python",
   "name": "python",
   "nbconvert_exporter": "python",
   "pygments_lexer": "ipython3",
   "version": "3.9.13"
  }
 },
 "nbformat": 4,
 "nbformat_minor": 5
}
